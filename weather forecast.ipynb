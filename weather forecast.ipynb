{
 "cells": [
  {
   "cell_type": "code",
   "execution_count": 1,
   "metadata": {},
   "outputs": [],
   "source": [
    "import pandas as pd\n",
    "import requests\n",
    "from bs4 import BeautifulSoup"
   ]
  },
  {
   "cell_type": "code",
   "execution_count": 2,
   "metadata": {},
   "outputs": [],
   "source": [
    "page = requests.get(\"https://forecast.weather.gov/MapClick.php?lat=37.7772&lon=-122.4168#.XDtbeVxKjIU\")"
   ]
  },
  {
   "cell_type": "code",
   "execution_count": 3,
   "metadata": {},
   "outputs": [],
   "source": [
    "pag1= page.content"
   ]
  },
  {
   "cell_type": "code",
   "execution_count": 5,
   "metadata": {},
   "outputs": [],
   "source": [
    "soup = BeautifulSoup(pag1, \"html.parser\")"
   ]
  },
  {
   "cell_type": "code",
   "execution_count": 6,
   "metadata": {},
   "outputs": [],
   "source": [
    "seven_day=soup.find('div', id=\"seven-day-forecast\")"
   ]
  },
  {
   "cell_type": "code",
   "execution_count": 11,
   "metadata": {},
   "outputs": [
    {
     "name": "stdout",
     "output_type": "stream",
     "text": [
      "<div class=\"tombstone-container\">\n",
      " <p class=\"period-name\">\n",
      "  Today\n",
      "  <br/>\n",
      "  <br/>\n",
      " </p>\n",
      " <p>\n",
      "  <img alt=\"Today: A 30 percent chance of showers after 4pm.  Partly sunny, with a high near 60. South southeast wind 6 to 8 mph. \" class=\"forecast-icon\" src=\"DualImage.php?i=bkn&amp;j=shra&amp;jp=30\" title=\"Today: A 30 percent chance of showers after 4pm.  Partly sunny, with a high near 60. South southeast wind 6 to 8 mph. \"/>\n",
      " </p>\n",
      " <p class=\"short-desc\">\n",
      "  Partly Sunny\n",
      "  <br/>\n",
      "  then Chance\n",
      "  <br/>\n",
      "  Showers\n",
      " </p>\n",
      " <p class=\"temp temp-high\">\n",
      "  High: 60 °F\n",
      " </p>\n",
      "</div>\n"
     ]
    }
   ],
   "source": [
    "cont = seven_day.find('div', class_=\"tombstone-container\")\n",
    "print(cont.prettify())"
   ]
  },
  {
   "cell_type": "code",
   "execution_count": 12,
   "metadata": {},
   "outputs": [],
   "source": [
    "period= cont.find('p', class_=\"period-name\").get_text()"
   ]
  },
  {
   "cell_type": "code",
   "execution_count": 25,
   "metadata": {},
   "outputs": [],
   "source": [
    "desc=cont.find(\"img\")\n",
    "title= desc[\"title\"]"
   ]
  },
  {
   "cell_type": "code",
   "execution_count": 22,
   "metadata": {},
   "outputs": [],
   "source": [
    "short_desc= cont.find(\"p\", class_=\"short-desc\").get_text()"
   ]
  },
  {
   "cell_type": "code",
   "execution_count": null,
   "metadata": {},
   "outputs": [],
   "source": []
  },
  {
   "cell_type": "code",
   "execution_count": 18,
   "metadata": {},
   "outputs": [],
   "source": [
    "temp= cont.find('p', class_=\"temp\").get_text()"
   ]
  },
  {
   "cell_type": "code",
   "execution_count": 26,
   "metadata": {},
   "outputs": [
    {
     "name": "stdout",
     "output_type": "stream",
     "text": [
      "Today\n",
      "Today: A 30 percent chance of showers after 4pm.  Partly sunny, with a high near 60. South southeast wind 6 to 8 mph. \n",
      "Partly Sunnythen ChanceShowers\n",
      "High: 60 °F\n"
     ]
    }
   ],
   "source": [
    "print(period)\n",
    "print(title)\n",
    "print(short_desc)\n",
    "print(temp)"
   ]
  },
  {
   "cell_type": "code",
   "execution_count": 32,
   "metadata": {},
   "outputs": [
    {
     "name": "stdout",
     "output_type": "stream",
     "text": [
      "['Today', 'Tonight', 'Monday', 'MondayNight', 'Tuesday', 'TuesdayNight', 'Wednesday', 'WednesdayNight', 'Thursday']\n"
     ]
    }
   ],
   "source": [
    "pt=[ periods.get_text() for periods in seven_day.find_all('p', class_=\"period-name\")]\n",
    "print(pt)"
   ]
  },
  {
   "cell_type": "code",
   "execution_count": 36,
   "metadata": {},
   "outputs": [
    {
     "name": "stdout",
     "output_type": "stream",
     "text": [
      "['Partly Sunnythen ChanceShowers', 'ShowersLikely', 'ShowersLikely andBreezy', 'ShowersLikely', 'Heavy Rain', 'Rain andBreezy', 'Rain Likely', 'Rain', 'Rain']\n"
     ]
    }
   ],
   "source": [
    "sd =[shor.get_text() for shor in seven_day.find_all('p', class_=\"short-desc\")]\n",
    "print(sd)"
   ]
  },
  {
   "cell_type": "code",
   "execution_count": 43,
   "metadata": {},
   "outputs": [
    {
     "name": "stdout",
     "output_type": "stream",
     "text": [
      "['Today: A 30 percent chance of showers after 4pm.  Partly sunny, with a high near 60. South southeast wind 6 to 8 mph. ', 'Tonight: Showers likely, mainly after 10pm.  Mostly cloudy, with a low around 51. East wind around 10 mph.  Chance of precipitation is 60%. New precipitation amounts of less than a tenth of an inch possible. ', 'Monday: Showers likely.  Cloudy, with a high near 55. Breezy, with a southeast wind 13 to 23 mph, with gusts as high as 29 mph.  Chance of precipitation is 70%. New precipitation amounts between a tenth and quarter of an inch possible. ', 'Monday Night: Showers likely before 4am, then rain likely after 4am.  Cloudy, with a low around 50. East wind around 17 mph, with gusts as high as 23 mph.  Chance of precipitation is 70%. New precipitation amounts between a tenth and quarter of an inch possible. ', 'Tuesday: Rain likely. The rain could be heavy at times.  Mostly cloudy, with a high near 57. Southeast wind 14 to 21 mph, with gusts as high as 26 mph.  Chance of precipitation is 70%. New precipitation amounts between a half and three quarters of an inch possible. ', 'Tuesday Night: Rain.  Low around 53. Breezy.  Chance of precipitation is 80%. New precipitation amounts between a quarter and half of an inch possible. ', 'Wednesday: Rain likely.  Cloudy, with a high near 59. Chance of precipitation is 70%.', 'Wednesday Night: Rain.  Cloudy, with a low around 55.', 'Thursday: Rain.  Cloudy, with a high near 59.']\n"
     ]
    }
   ],
   "source": [
    "des=[d[\"title\"] for d in seven_day.find_all(\"img\")]\n",
    "print(des)"
   ]
  },
  {
   "cell_type": "code",
   "execution_count": 45,
   "metadata": {},
   "outputs": [
    {
     "name": "stdout",
     "output_type": "stream",
     "text": [
      "['High: 60 °F', 'Low: 51 °F', 'High: 55 °F', 'Low: 50 °F', 'High: 57 °F', 'Low: 53 °F', 'High: 59 °F', 'Low: 55 °F', 'High: 59 °F']\n"
     ]
    }
   ],
   "source": [
    "temperature=[t.get_text() for t in seven_day.find_all(\"p\", class_=\"temp\")]\n",
    "print(temperature)"
   ]
  },
  {
   "cell_type": "code",
   "execution_count": 55,
   "metadata": {},
   "outputs": [],
   "source": [
    "weather = pd.DataFrame({\n",
    "                \"periods\":pt,\n",
    "                 \"short_description\": sd,\n",
    "                 \"title\": des,\n",
    "                  \"temperature\":temperature\n",
    "    })"
   ]
  },
  {
   "cell_type": "code",
   "execution_count": 56,
   "metadata": {},
   "outputs": [
    {
     "data": {
      "text/html": [
       "<div>\n",
       "<style scoped>\n",
       "    .dataframe tbody tr th:only-of-type {\n",
       "        vertical-align: middle;\n",
       "    }\n",
       "\n",
       "    .dataframe tbody tr th {\n",
       "        vertical-align: top;\n",
       "    }\n",
       "\n",
       "    .dataframe thead th {\n",
       "        text-align: right;\n",
       "    }\n",
       "</style>\n",
       "<table border=\"1\" class=\"dataframe\">\n",
       "  <thead>\n",
       "    <tr style=\"text-align: right;\">\n",
       "      <th></th>\n",
       "      <th>periods</th>\n",
       "      <th>short_description</th>\n",
       "      <th>title</th>\n",
       "      <th>temperature</th>\n",
       "    </tr>\n",
       "  </thead>\n",
       "  <tbody>\n",
       "    <tr>\n",
       "      <th>0</th>\n",
       "      <td>Today</td>\n",
       "      <td>Partly Sunnythen ChanceShowers</td>\n",
       "      <td>Today: A 30 percent chance of showers after 4p...</td>\n",
       "      <td>High: 60 °F</td>\n",
       "    </tr>\n",
       "    <tr>\n",
       "      <th>1</th>\n",
       "      <td>Tonight</td>\n",
       "      <td>ShowersLikely</td>\n",
       "      <td>Tonight: Showers likely, mainly after 10pm.  M...</td>\n",
       "      <td>Low: 51 °F</td>\n",
       "    </tr>\n",
       "    <tr>\n",
       "      <th>2</th>\n",
       "      <td>Monday</td>\n",
       "      <td>ShowersLikely andBreezy</td>\n",
       "      <td>Monday: Showers likely.  Cloudy, with a high n...</td>\n",
       "      <td>High: 55 °F</td>\n",
       "    </tr>\n",
       "    <tr>\n",
       "      <th>3</th>\n",
       "      <td>MondayNight</td>\n",
       "      <td>ShowersLikely</td>\n",
       "      <td>Monday Night: Showers likely before 4am, then ...</td>\n",
       "      <td>Low: 50 °F</td>\n",
       "    </tr>\n",
       "    <tr>\n",
       "      <th>4</th>\n",
       "      <td>Tuesday</td>\n",
       "      <td>Heavy Rain</td>\n",
       "      <td>Tuesday: Rain likely. The rain could be heavy ...</td>\n",
       "      <td>High: 57 °F</td>\n",
       "    </tr>\n",
       "    <tr>\n",
       "      <th>5</th>\n",
       "      <td>TuesdayNight</td>\n",
       "      <td>Rain andBreezy</td>\n",
       "      <td>Tuesday Night: Rain.  Low around 53. Breezy.  ...</td>\n",
       "      <td>Low: 53 °F</td>\n",
       "    </tr>\n",
       "    <tr>\n",
       "      <th>6</th>\n",
       "      <td>Wednesday</td>\n",
       "      <td>Rain Likely</td>\n",
       "      <td>Wednesday: Rain likely.  Cloudy, with a high n...</td>\n",
       "      <td>High: 59 °F</td>\n",
       "    </tr>\n",
       "    <tr>\n",
       "      <th>7</th>\n",
       "      <td>WednesdayNight</td>\n",
       "      <td>Rain</td>\n",
       "      <td>Wednesday Night: Rain.  Cloudy, with a low aro...</td>\n",
       "      <td>Low: 55 °F</td>\n",
       "    </tr>\n",
       "    <tr>\n",
       "      <th>8</th>\n",
       "      <td>Thursday</td>\n",
       "      <td>Rain</td>\n",
       "      <td>Thursday: Rain.  Cloudy, with a high near 59.</td>\n",
       "      <td>High: 59 °F</td>\n",
       "    </tr>\n",
       "  </tbody>\n",
       "</table>\n",
       "</div>"
      ],
      "text/plain": [
       "          periods               short_description  \\\n",
       "0           Today  Partly Sunnythen ChanceShowers   \n",
       "1         Tonight                   ShowersLikely   \n",
       "2          Monday         ShowersLikely andBreezy   \n",
       "3     MondayNight                   ShowersLikely   \n",
       "4         Tuesday                      Heavy Rain   \n",
       "5    TuesdayNight                  Rain andBreezy   \n",
       "6       Wednesday                     Rain Likely   \n",
       "7  WednesdayNight                            Rain   \n",
       "8        Thursday                            Rain   \n",
       "\n",
       "                                               title  temperature  \n",
       "0  Today: A 30 percent chance of showers after 4p...  High: 60 °F  \n",
       "1  Tonight: Showers likely, mainly after 10pm.  M...   Low: 51 °F  \n",
       "2  Monday: Showers likely.  Cloudy, with a high n...  High: 55 °F  \n",
       "3  Monday Night: Showers likely before 4am, then ...   Low: 50 °F  \n",
       "4  Tuesday: Rain likely. The rain could be heavy ...  High: 57 °F  \n",
       "5  Tuesday Night: Rain.  Low around 53. Breezy.  ...   Low: 53 °F  \n",
       "6  Wednesday: Rain likely.  Cloudy, with a high n...  High: 59 °F  \n",
       "7  Wednesday Night: Rain.  Cloudy, with a low aro...   Low: 55 °F  \n",
       "8      Thursday: Rain.  Cloudy, with a high near 59.  High: 59 °F  "
      ]
     },
     "execution_count": 56,
     "metadata": {},
     "output_type": "execute_result"
    }
   ],
   "source": [
    "weather"
   ]
  },
  {
   "cell_type": "code",
   "execution_count": null,
   "metadata": {},
   "outputs": [],
   "source": []
  },
  {
   "cell_type": "code",
   "execution_count": 67,
   "metadata": {},
   "outputs": [
    {
     "data": {
      "text/html": [
       "<div>\n",
       "<style scoped>\n",
       "    .dataframe tbody tr th:only-of-type {\n",
       "        vertical-align: middle;\n",
       "    }\n",
       "\n",
       "    .dataframe tbody tr th {\n",
       "        vertical-align: top;\n",
       "    }\n",
       "\n",
       "    .dataframe thead th {\n",
       "        text-align: right;\n",
       "    }\n",
       "</style>\n",
       "<table border=\"1\" class=\"dataframe\">\n",
       "  <thead>\n",
       "    <tr style=\"text-align: right;\">\n",
       "      <th></th>\n",
       "      <th>periods</th>\n",
       "      <th>short_description</th>\n",
       "      <th>title</th>\n",
       "      <th>temperature</th>\n",
       "    </tr>\n",
       "  </thead>\n",
       "  <tbody>\n",
       "    <tr>\n",
       "      <th>1</th>\n",
       "      <td>Tonight</td>\n",
       "      <td>ShowersLikely</td>\n",
       "      <td>Tonight: Showers likely, mainly after 10pm.  M...</td>\n",
       "      <td>Low: 51 °F</td>\n",
       "    </tr>\n",
       "    <tr>\n",
       "      <th>3</th>\n",
       "      <td>MondayNight</td>\n",
       "      <td>ShowersLikely</td>\n",
       "      <td>Monday Night: Showers likely before 4am, then ...</td>\n",
       "      <td>Low: 50 °F</td>\n",
       "    </tr>\n",
       "    <tr>\n",
       "      <th>5</th>\n",
       "      <td>TuesdayNight</td>\n",
       "      <td>Rain andBreezy</td>\n",
       "      <td>Tuesday Night: Rain.  Low around 53. Breezy.  ...</td>\n",
       "      <td>Low: 53 °F</td>\n",
       "    </tr>\n",
       "    <tr>\n",
       "      <th>7</th>\n",
       "      <td>WednesdayNight</td>\n",
       "      <td>Rain</td>\n",
       "      <td>Wednesday Night: Rain.  Cloudy, with a low aro...</td>\n",
       "      <td>Low: 55 °F</td>\n",
       "    </tr>\n",
       "  </tbody>\n",
       "</table>\n",
       "</div>"
      ],
      "text/plain": [
       "          periods short_description  \\\n",
       "1         Tonight     ShowersLikely   \n",
       "3     MondayNight     ShowersLikely   \n",
       "5    TuesdayNight    Rain andBreezy   \n",
       "7  WednesdayNight              Rain   \n",
       "\n",
       "                                               title temperature  \n",
       "1  Tonight: Showers likely, mainly after 10pm.  M...  Low: 51 °F  \n",
       "3  Monday Night: Showers likely before 4am, then ...  Low: 50 °F  \n",
       "5  Tuesday Night: Rain.  Low around 53. Breezy.  ...  Low: 53 °F  \n",
       "7  Wednesday Night: Rain.  Cloudy, with a low aro...  Low: 55 °F  "
      ]
     },
     "execution_count": 67,
     "metadata": {},
     "output_type": "execute_result"
    }
   ],
   "source": [
    "weather[weather.temperature.str.contains(\"Low\")]b\n"
   ]
  },
  {
   "cell_type": "code",
   "execution_count": 70,
   "metadata": {},
   "outputs": [
    {
     "data": {
      "text/plain": [
       "count      9\n",
       "unique     7\n",
       "top       55\n",
       "freq       2\n",
       "Name: temp_num, dtype: object"
      ]
     },
     "execution_count": 70,
     "metadata": {},
     "output_type": "execute_result"
    }
   ],
   "source": [
    "temp_nums.describe()"
   ]
  },
  {
   "cell_type": "code",
   "execution_count": 71,
   "metadata": {},
   "outputs": [
    {
     "data": {
      "text/plain": [
       "<bound method NDFrame.describe of           periods               short_description  \\\n",
       "0           Today  Partly Sunnythen ChanceShowers   \n",
       "1         Tonight                   ShowersLikely   \n",
       "2          Monday         ShowersLikely andBreezy   \n",
       "3     MondayNight                   ShowersLikely   \n",
       "4         Tuesday                      Heavy Rain   \n",
       "5    TuesdayNight                  Rain andBreezy   \n",
       "6       Wednesday                     Rain Likely   \n",
       "7  WednesdayNight                            Rain   \n",
       "8        Thursday                            Rain   \n",
       "\n",
       "                                               title  temperature  temp_num  \n",
       "0  Today: A 30 percent chance of showers after 4p...  High: 60 °F        60  \n",
       "1  Tonight: Showers likely, mainly after 10pm.  M...   Low: 51 °F        51  \n",
       "2  Monday: Showers likely.  Cloudy, with a high n...  High: 55 °F        55  \n",
       "3  Monday Night: Showers likely before 4am, then ...   Low: 50 °F        50  \n",
       "4  Tuesday: Rain likely. The rain could be heavy ...  High: 57 °F        57  \n",
       "5  Tuesday Night: Rain.  Low around 53. Breezy.  ...   Low: 53 °F        53  \n",
       "6  Wednesday: Rain likely.  Cloudy, with a high n...  High: 59 °F        59  \n",
       "7  Wednesday Night: Rain.  Cloudy, with a low aro...   Low: 55 °F        55  \n",
       "8      Thursday: Rain.  Cloudy, with a high near 59.  High: 59 °F        59  >"
      ]
     },
     "execution_count": 71,
     "metadata": {},
     "output_type": "execute_result"
    }
   ],
   "source": [
    "weather.describe"
   ]
  },
  {
   "cell_type": "code",
   "execution_count": 74,
   "metadata": {},
   "outputs": [
    {
     "data": {
      "text/html": [
       "<div>\n",
       "<style scoped>\n",
       "    .dataframe tbody tr th:only-of-type {\n",
       "        vertical-align: middle;\n",
       "    }\n",
       "\n",
       "    .dataframe tbody tr th {\n",
       "        vertical-align: top;\n",
       "    }\n",
       "\n",
       "    .dataframe thead th {\n",
       "        text-align: right;\n",
       "    }\n",
       "</style>\n",
       "<table border=\"1\" class=\"dataframe\">\n",
       "  <thead>\n",
       "    <tr style=\"text-align: right;\">\n",
       "      <th></th>\n",
       "      <th>periods</th>\n",
       "      <th>short_description</th>\n",
       "      <th>title</th>\n",
       "      <th>temperature</th>\n",
       "      <th>temp_num</th>\n",
       "    </tr>\n",
       "  </thead>\n",
       "  <tbody>\n",
       "    <tr>\n",
       "      <th>1</th>\n",
       "      <td>Tonight</td>\n",
       "      <td>ShowersLikely</td>\n",
       "      <td>Tonight: Showers likely, mainly after 10pm.  M...</td>\n",
       "      <td>Low: 51 °F</td>\n",
       "      <td>51</td>\n",
       "    </tr>\n",
       "    <tr>\n",
       "      <th>3</th>\n",
       "      <td>MondayNight</td>\n",
       "      <td>ShowersLikely</td>\n",
       "      <td>Monday Night: Showers likely before 4am, then ...</td>\n",
       "      <td>Low: 50 °F</td>\n",
       "      <td>50</td>\n",
       "    </tr>\n",
       "    <tr>\n",
       "      <th>5</th>\n",
       "      <td>TuesdayNight</td>\n",
       "      <td>Rain andBreezy</td>\n",
       "      <td>Tuesday Night: Rain.  Low around 53. Breezy.  ...</td>\n",
       "      <td>Low: 53 °F</td>\n",
       "      <td>53</td>\n",
       "    </tr>\n",
       "    <tr>\n",
       "      <th>7</th>\n",
       "      <td>WednesdayNight</td>\n",
       "      <td>Rain</td>\n",
       "      <td>Wednesday Night: Rain.  Cloudy, with a low aro...</td>\n",
       "      <td>Low: 55 °F</td>\n",
       "      <td>55</td>\n",
       "    </tr>\n",
       "  </tbody>\n",
       "</table>\n",
       "</div>"
      ],
      "text/plain": [
       "          periods short_description  \\\n",
       "1         Tonight     ShowersLikely   \n",
       "3     MondayNight     ShowersLikely   \n",
       "5    TuesdayNight    Rain andBreezy   \n",
       "7  WednesdayNight              Rain   \n",
       "\n",
       "                                               title temperature  temp_num  \n",
       "1  Tonight: Showers likely, mainly after 10pm.  M...  Low: 51 °F        51  \n",
       "3  Monday Night: Showers likely before 4am, then ...  Low: 50 °F        50  \n",
       "5  Tuesday Night: Rain.  Low around 53. Breezy.  ...  Low: 53 °F        53  \n",
       "7  Wednesday Night: Rain.  Cloudy, with a low aro...  Low: 55 °F        55  "
      ]
     },
     "execution_count": 74,
     "metadata": {},
     "output_type": "execute_result"
    }
   ],
   "source": [
    "weather[weather.temperature.str.contains(\"Low\")]"
   ]
  },
  {
   "cell_type": "code",
   "execution_count": 68,
   "metadata": {},
   "outputs": [
    {
     "data": {
      "text/plain": [
       "0    60\n",
       "1    51\n",
       "2    55\n",
       "3    50\n",
       "4    57\n",
       "5    53\n",
       "6    59\n",
       "7    55\n",
       "8    59\n",
       "Name: temp_num, dtype: object"
      ]
     },
     "execution_count": 68,
     "metadata": {},
     "output_type": "execute_result"
    }
   ],
   "source": [
    "temp_nums = weather[\"temperature\"].str.extract(\"(?P<temp_num>\\d+)\", expand=False)\n",
    "weather[\"temp_num\"] = temp_nums.astype('int')\n",
    "temp_nums"
   ]
  }
 ],
 "metadata": {
  "kernelspec": {
   "display_name": "Python 3",
   "language": "python",
   "name": "python3"
  },
  "language_info": {
   "codemirror_mode": {
    "name": "ipython",
    "version": 3
   },
   "file_extension": ".py",
   "mimetype": "text/x-python",
   "name": "python",
   "nbconvert_exporter": "python",
   "pygments_lexer": "ipython3",
   "version": "3.7.1"
  }
 },
 "nbformat": 4,
 "nbformat_minor": 2
}
